{
 "cells": [
  {
   "cell_type": "markdown",
   "metadata": {},
   "source": [
    "# CHEE 807, Fall 2021\n",
    "- Queen's University\n",
    "- Instructor: Laurence Yang"
   ]
  },
  {
   "cell_type": "markdown",
   "metadata": {},
   "source": [
    "## Previously,\n",
    "- in the last lecture, we formulated optknock in class\n",
    "- we obtained a solution that deleted two reactions\n",
    "\n",
    "## In this notebook:\n",
    "- we will add an integer cut to find alternative solutions"
   ]
  },
  {
   "cell_type": "markdown",
   "metadata": {},
   "source": [
    "# 1. Import required modules and define helpful functions"
   ]
  },
  {
   "cell_type": "code",
   "execution_count": 7,
   "metadata": {},
   "outputs": [],
   "source": [
    "from cobra.io import load_json_model\n",
    "from cobra import Metabolite, Reaction, Model"
   ]
  },
  {
   "cell_type": "markdown",
   "metadata": {},
   "source": [
    "## Define a function to re-load the model for an organism and adjust the default bounds"
   ]
  },
  {
   "cell_type": "code",
   "execution_count": 8,
   "metadata": {},
   "outputs": [],
   "source": [
    "def reload_model(org='yeast'):\n",
    "    # model = load_json_model('iML1515.json')\n",
    "\n",
    "    if org=='yeast':\n",
    "        print('Organism is S. cerevisiae')\n",
    "        model = load_json_model('iMM904.json')\n",
    "        rxn_bio = 'BIOMASS_SC5_notrace'\n",
    "    else:\n",
    "        print('Organism is E. coli')\n",
    "        model = load_json_model('iAF1260.json')\n",
    "        rxn_bio = 'BIOMASS_Ec_iAF1260_core_59p81M'\n",
    "\n",
    "    for rxn in model.reactions:\n",
    "        if rxn.upper_bound > 1000:\n",
    "            rxn.upper_bound = 1000\n",
    "        if rxn.lower_bound < -1000:\n",
    "            rxn.lower_bound = -1000\n",
    "            \n",
    "    return model, rxn_bio"
   ]
  },
  {
   "cell_type": "markdown",
   "metadata": {},
   "source": [
    "## Define a function to draw the production envelope"
   ]
  },
  {
   "cell_type": "code",
   "execution_count": 12,
   "metadata": {},
   "outputs": [],
   "source": [
    "import numpy as np\n",
    "import pandas as pd\n",
    "import matplotlib.pyplot as plt\n",
    "\n",
    "def prod_env(model, varx, vary):\n",
    "    \n",
    "    model.optimize()\n",
    "    mu_max = model.reactions.get_by_id(varx).x\n",
    "    mu_max\n",
    "\n",
    "    rows = []\n",
    "    for muj in np.linspace(0, mu_max*0.999, 10):\n",
    "        model.reactions.get_by_id(rxn_bio).lower_bound = muj\n",
    "        model.reactions.get_by_id(rxn_bio).upper_bound = muj\n",
    "\n",
    "        for rxn in model.reactions:\n",
    "            rxn.objective_coefficient = 0.\n",
    "\n",
    "        # Set objective to succinate maximization\n",
    "        rxn_prod = model.reactions.get_by_id(vary)\n",
    "        rxn_prod.objective_coefficient = 1.\n",
    "\n",
    "        model.optimize('maximize')\n",
    "        vmax = rxn_prod.x\n",
    "        # minimize succinate production\n",
    "        model.optimize('minimize')\n",
    "        vmin = rxn_prod.x\n",
    "\n",
    "        # STore solution\n",
    "        rows.append({'mu':muj, 'vmax':vmax, 'vmin':vmin})\n",
    "\n",
    "    df = pd.DataFrame(rows)\n",
    "    plt.plot('mu', 'vmax', data=df, label='vmax')\n",
    "    plt.plot('mu', 'vmin', data=df, label='vmin')\n",
    "    plt.legend()\n",
    "    plt.xlabel('Growth rate (1/h)')\n",
    "    plt.ylabel('%s flux (mmol/gDW/h)'%vary)\n",
    "    \n",
    "    return df"
   ]
  },
  {
   "cell_type": "markdown",
   "metadata": {},
   "source": [
    "# 2. Formulate OptKnock\n",
    "- the objective is to maximize target chemical production\n",
    "- set the required growth rate\n",
    "- constrain the total number of knockouts\n",
    "- also fix any binary variables to 1 if we don't want to remove that reaction"
   ]
  },
  {
   "cell_type": "markdown",
   "metadata": {},
   "source": [
    "$$\n",
    "\\begin{align}\n",
    "\\max_{w,a,b,\\sigma, y} \\quad & v^\\text{prod} \\\\\n",
    "\\text{subject to} \\quad & Sv = 0 \\\\\n",
    "& S^T w + b- a + \\sigma  = c \\\\\n",
    "& 0^T w+ u^T b - l^T a + 0^T \\sigma = c^T v\\\\\n",
    "& 0 \\leq a \\leq \\mu^U y \\\\\n",
    "& 0 \\leq b \\leq \\eta^U y \\\\\n",
    "& -M\\cdot (1-y) \\leq \\sigma \\leq M\\cdot (1-y) \\\\\n",
    "& l y \\leq v \\leq u y \\\\\n",
    "& v^\\text{biomass} \\geq v^\\text{biomass}_\\text{min} \\\\\n",
    "& \\sum_J (1 - y_j) \\leq K \\\\\n",
    " & y \\in \\{0,1\\} \\\\\n",
    " & y_i = 1, \\quad \\forall i \\in \\text{DoNotDelete}\n",
    "\\end{align}\n",
    "$$"
   ]
  },
  {
   "cell_type": "code",
   "execution_count": 46,
   "metadata": {},
   "outputs": [
    {
     "name": "stdout",
     "output_type": "stream",
     "text": [
      "Organism is S. cerevisiae\n",
      "Primal objective: <Solution 0.29 at 0x7faabdab3950>\n",
      "Total of 1577 y variables\n",
      "Total of 2 allowed knockouts\n",
      "OptKnock objective: <Solution 9.07 at 0x7faa887caf50>\n",
      "CPU times: user 1h 15min 55s, sys: 51.7 s, total: 1h 16min 47s\n",
      "Wall time: 7min 41s\n",
      "Total Knockouts: 2\n",
      "Knockouts:\n",
      "y_ME2m=0\tmal__L_m + nadp_m --> co2_m + lb_y_ME2m + nadph_m + pyr_m + ub_y_ME2m\n",
      "y_PYRDC=0\th_c + pyr_c --> acald_c + co2_c + lb_y_PYRDC + ub_y_PYRDC\n",
      "Growth rate: 0.1711567374050771\n",
      "Production rate: 9.069339712918804\n"
     ]
    }
   ],
   "source": [
    "### Test the primal\n",
    "model, rxn_bio = reload_model()\n",
    "print('Primal objective:', model.optimize())\n",
    "\n",
    "### Test just the dual\n",
    "optknock = Model('optknock')\n",
    "\n",
    "all_vars = []\n",
    "for met in model.metabolites:\n",
    "    w = Reaction('w_%s'%met.id, lower_bound=-1000, upper_bound=1000)\n",
    "    all_vars.append(w)\n",
    "    \n",
    "for rxn in model.reactions:\n",
    "    v   = Reaction(rxn.id, lower_bound=rxn.lower_bound, upper_bound=rxn.upper_bound)\n",
    "    v.objective_coefficient = rxn.objective_coefficient\n",
    "        \n",
    "    a   = Reaction('a_%s'%rxn.id, lower_bound=0, upper_bound=1000)\n",
    "    b   = Reaction('b_%s'%rxn.id, lower_bound=0, upper_bound=1000)   \n",
    "    y   = Reaction('y_%s'%rxn.id, lower_bound=0, upper_bound=1)\n",
    "    y.variable_kind = 'integer'\n",
    "    \n",
    "    # This is the dual for v_j = 0 for j in KO\n",
    "    sigma = Reaction('sigma_%s'%rxn.id, lower_bound=-1000, upper_bound=1000)\n",
    "    \n",
    "    all_vars.append(v)\n",
    "    all_vars.append(a)\n",
    "    all_vars.append(b)\n",
    "    all_vars.append(y)\n",
    "    all_vars.append(sigma)\n",
    "    \n",
    "optknock.add_reactions(all_vars)\n",
    "    \n",
    "all_constraints = []\n",
    "for rxn in model.reactions:\n",
    "    cons = Metabolite('dual_%s'%rxn.id)\n",
    "    cons._bound = rxn.objective_coefficient\n",
    "    cons._constraint_sense = 'E'        \n",
    "    \n",
    "    v = optknock.reactions.get_by_id(rxn.id)\n",
    "    for met,stoich in rxn.metabolites.items():        \n",
    "        w = optknock.reactions.get_by_id('w_%s'%met.id)\n",
    "        w.add_metabolites({cons:stoich})\n",
    "        \n",
    "        #**********************************        \n",
    "        met2 = Metabolite(met.id)\n",
    "        met2._bound = met._bound\n",
    "        met2._constraint_sense = met._constraint_sense\n",
    "        v.add_metabolites({met2:stoich})\n",
    "        #**********************************\n",
    "    \n",
    "    # S*w + b - a + sigma = c\n",
    "    a = optknock.reactions.get_by_id('a_%s'%rxn.id)\n",
    "    b = optknock.reactions.get_by_id('b_%s'%rxn.id)\n",
    "    sigma = optknock.reactions.get_by_id('sigma_%s'%rxn.id)\n",
    "    b.add_metabolites({cons:1})\n",
    "    a.add_metabolites({cons:-1})\n",
    "    sigma.add_metabolites({cons:1})\n",
    "    \n",
    "    all_constraints.append(cons)\n",
    "    \n",
    "    #------------------------------------------------\n",
    "    # If vj = 0 constraint active, then the original bounds'\n",
    "    # dual variables, a and b must be zero\n",
    "    # a <= muU*y   : a - muU*y <= 0\n",
    "    # b <= etaU*y  : b - etaU*y <= 0    \n",
    "    BIGM = 1e3\n",
    "    \n",
    "    y = optknock.reactions.get_by_id('y_%s'%rxn.id)\n",
    "    \n",
    "    cons = Metabolite('mu_U_%s'%rxn.id)\n",
    "    cons._constraint_sense = 'L'\n",
    "    cons._bound = 0\n",
    "    a.add_metabolites({cons:1})\n",
    "    y.add_metabolites({cons:-BIGM})\n",
    "    all_constraints.append(cons)\n",
    "    \n",
    "    cons = Metabolite('eta_U_%s'%rxn.id)\n",
    "    cons._constraint_sense = 'L'\n",
    "    cons._bound = 0\n",
    "    b.add_metabolites({cons:1})\n",
    "    y.add_metabolites({cons:-BIGM})\n",
    "    all_constraints.append(cons)\n",
    "    #------------------------------------------------\n",
    "    # -M*(1-y) <= sigma <= M*(1-y)\n",
    "    # Lower bound: sigma - M*y >= -M\n",
    "    # Upper bound: sigma + M*y <= M\n",
    "\n",
    "    cons = Metabolite('sigma_L_%s'%rxn.id)\n",
    "    cons._constraint_sense = 'G'\n",
    "    cons._bound = -BIGM\n",
    "    sigma.add_metabolites({cons:1})\n",
    "    y.add_metabolites({cons:-1*BIGM})\n",
    "    \n",
    "    cons = Metabolite('sigma_U_%s'%rxn.id)\n",
    "    cons._constraint_sense = 'L'\n",
    "    cons._bound = BIGM\n",
    "    sigma.add_metabolites({cons:1})\n",
    "    y.add_metabolites({cons:BIGM})\n",
    "    \n",
    "    all_constraints.append(cons)\n",
    "    #------------------------------------------------\n",
    "    \n",
    "### Instead of setting dual or primal objectives, now set primal obj = dual obj\n",
    "# 0'w + u'b - l'a + 0'*sigma - c'v  = 0\n",
    "\n",
    "cons = Metabolite('duality_gap')\n",
    "cons._constraint_sense = 'E'\n",
    "cons._bound = 0\n",
    "\n",
    "for rxn in model.reactions:\n",
    "    b = optknock.reactions.get_by_id('b_%s'%rxn.id)\n",
    "    a = optknock.reactions.get_by_id('a_%s'%rxn.id)\n",
    "    v   = optknock.reactions.get_by_id(rxn.id)\n",
    "    b.add_metabolites({cons:rxn.upper_bound})\n",
    "    a.add_metabolites({cons:-1*rxn.lower_bound})\n",
    "    v.add_metabolites({cons:-1*rxn.objective_coefficient})\n",
    "    ### These should just be 0*w = 0\n",
    "    for met,stoich in rxn.metabolites.items():\n",
    "        w.add_metabolites({cons:met._bound})\n",
    "\n",
    "all_constraints.append(cons)\n",
    "\n",
    "\n",
    "for rxn in model.reactions:\n",
    "    v = optknock.reactions.get_by_id(rxn.id)\n",
    "    y = optknock.reactions.get_by_id('y_%s'%rxn.id)\n",
    "    \n",
    "    ### v >= l*y  :  v - l*y >= 0\n",
    "    cons = Metabolite('lb_y_%s'%rxn.id)\n",
    "    cons._constraint_sense = 'G'\n",
    "    v.add_metabolites({cons:1.})\n",
    "    y.add_metabolites({cons:-1*rxn.lower_bound})    \n",
    "    all_constraints.append(cons)\n",
    "    \n",
    "    ### v <= u*y  : v - u*y <= 0     \n",
    "    cons = Metabolite('ub_y_%s'%rxn.id)\n",
    "    cons._constraint_sense = 'L'\n",
    "    v.add_metabolites({cons:1.})\n",
    "    y.add_metabolites({cons:-1*rxn.upper_bound})    \n",
    "    all_constraints.append(cons)\n",
    "       \n",
    "    \n",
    "#-------------------------\n",
    "# sum( 1 - y) <= K\n",
    "# N - sum(y) <= K\n",
    "# sum(y) >= N - K\n",
    "\n",
    "ys = optknock.reactions.query('^y_')\n",
    "N = len(ys)\n",
    "print('Total of %d y variables'%N)\n",
    "#-------------------------\n",
    "K = 2\n",
    "print('Total of %d allowed knockouts'%K)\n",
    "#-------------------------\n",
    "cons = Metabolite('max_KO')\n",
    "cons._constraint_sense = 'G'\n",
    "cons._bound = N-K\n",
    "\n",
    "for y in optknock.reactions.query('^y_'):\n",
    "    y.add_metabolites({cons:1})\n",
    "    \n",
    "all_constraints.append(cons)\n",
    "\n",
    "#-----------------------------\n",
    "### ADD IN ALL THE CONSTRAINTS\n",
    "optknock.add_metabolites(all_constraints)\n",
    "\n",
    "### Objective coefficients\n",
    "for x in optknock.reactions:\n",
    "    x.objective_coefficient = 0.\n",
    "\n",
    "#-----------------------------------------------------\n",
    "### Some Reactions should not be allowed to be deleted\n",
    "# ATPM: ATP maintenance\n",
    "optknock.reactions.y_ATPM.lower_bound = 1\n",
    "# Growth rate\n",
    "optknock.reactions.get_by_id('y_%s'%rxn_bio).lower_bound = 1\n",
    "# The exchange reactions\n",
    "for rxn in optknock.reactions.query('^EX_'):\n",
    "    y = optknock.reactions.get_by_id('y_%s'%rxn.id)\n",
    "    y.lower_bound = 1\n",
    "    \n",
    "# Any reaction that is not associated with a gene\n",
    "for rxn in model.reactions:\n",
    "    if len(rxn.genes)==0:\n",
    "        y = optknock.reactions.get_by_id('y_%s'%rxn.id)\n",
    "        y.lower_bound = 1\n",
    "\n",
    "#-----------------------------------------------------\n",
    "### Maximize the target\n",
    "rxn_target = 'EX_succ_e'\n",
    "optknock.reactions.get_by_id(rxn_target).objective_coefficient = 1.\n",
    "\n",
    "#-----------------------------------------------------\n",
    "### Force minimum required growth rate\n",
    "GROWTH_MIN = 0.05\n",
    "optknock.reactions.get_by_id(rxn_bio).lower_bound = GROWTH_MIN\n",
    "\n",
    "\n",
    "#-----------------------------------------------------\n",
    "# SOLVE\n",
    "%time print('OptKnock objective:', optknock.optimize('maximize', solver='gurobi', integer_feasibility=1e-9, threads=11))\n",
    "\n",
    "\n",
    "#-----------------------------------------------------\n",
    "# Interpret the solution\n",
    "y_new = {y:y.x for y in optknock.reactions.query('^y_')}\n",
    "print('Total Knockouts: %d'%(sum(np.array(list(y_new.values()))==0)))\n",
    "print('Knockouts:')\n",
    "for y,yv in y_new.items():\n",
    "    if yv < 0.5:\n",
    "        rxn = optknock.reactions.get_by_id(y.id.replace('y_',''))\n",
    "        print('%s=%d\\t%s'%(y.id, yv, rxn.reaction))\n",
    "    \n",
    "print('Growth rate:', optknock.reactions.get_by_id(rxn_bio).x)\n",
    "print('Production rate:', optknock.reactions.get_by_id(rxn_target).x)\n",
    "\n",
    "\n",
    "# ys = np.array([y.x for y in optknock.reactions.query('^y_')])\n",
    "# print('Target chemical: %s'%rxn_target)\n",
    "# print('Total Knockouts: %d'%(sum(1-ys)))\n",
    "\n",
    "\n",
    "# print('Growth rate:', optknock.reactions.get_by_id(rxn_bio).x)\n",
    "# print('Production rate:', optknock.reactions.get_by_id(rxn_target).x)"
   ]
  },
  {
   "cell_type": "markdown",
   "metadata": {},
   "source": [
    "## Save the current solution"
   ]
  },
  {
   "cell_type": "code",
   "execution_count": 47,
   "metadata": {},
   "outputs": [],
   "source": [
    "y_prev = {y:y.x for y in optknock.reactions.query('^y_')}"
   ]
  },
  {
   "cell_type": "markdown",
   "metadata": {},
   "source": [
    "# 3. Production envelopes"
   ]
  },
  {
   "cell_type": "markdown",
   "metadata": {},
   "source": [
    "## Wild-type"
   ]
  },
  {
   "cell_type": "code",
   "execution_count": 48,
   "metadata": {},
   "outputs": [
    {
     "name": "stdout",
     "output_type": "stream",
     "text": [
      "Organism is S. cerevisiae\n"
     ]
    },
    {
     "data": {
      "text/html": [
       "<div>\n",
       "<style scoped>\n",
       "    .dataframe tbody tr th:only-of-type {\n",
       "        vertical-align: middle;\n",
       "    }\n",
       "\n",
       "    .dataframe tbody tr th {\n",
       "        vertical-align: top;\n",
       "    }\n",
       "\n",
       "    .dataframe thead th {\n",
       "        text-align: right;\n",
       "    }\n",
       "</style>\n",
       "<table border=\"1\" class=\"dataframe\">\n",
       "  <thead>\n",
       "    <tr style=\"text-align: right;\">\n",
       "      <th></th>\n",
       "      <th>mu</th>\n",
       "      <th>vmax</th>\n",
       "      <th>vmin</th>\n",
       "    </tr>\n",
       "  </thead>\n",
       "  <tbody>\n",
       "    <tr>\n",
       "      <th>0</th>\n",
       "      <td>0.000000</td>\n",
       "      <td>13.982833</td>\n",
       "      <td>0.0</td>\n",
       "    </tr>\n",
       "    <tr>\n",
       "      <th>1</th>\n",
       "      <td>0.031953</td>\n",
       "      <td>13.546867</td>\n",
       "      <td>0.0</td>\n",
       "    </tr>\n",
       "    <tr>\n",
       "      <th>2</th>\n",
       "      <td>0.063906</td>\n",
       "      <td>13.110901</td>\n",
       "      <td>0.0</td>\n",
       "    </tr>\n",
       "    <tr>\n",
       "      <th>3</th>\n",
       "      <td>0.095859</td>\n",
       "      <td>12.674935</td>\n",
       "      <td>0.0</td>\n",
       "    </tr>\n",
       "    <tr>\n",
       "      <th>4</th>\n",
       "      <td>0.127812</td>\n",
       "      <td>12.223116</td>\n",
       "      <td>0.0</td>\n",
       "    </tr>\n",
       "    <tr>\n",
       "      <th>5</th>\n",
       "      <td>0.159765</td>\n",
       "      <td>11.766700</td>\n",
       "      <td>0.0</td>\n",
       "    </tr>\n",
       "    <tr>\n",
       "      <th>6</th>\n",
       "      <td>0.191719</td>\n",
       "      <td>9.526091</td>\n",
       "      <td>0.0</td>\n",
       "    </tr>\n",
       "    <tr>\n",
       "      <th>7</th>\n",
       "      <td>0.223672</td>\n",
       "      <td>6.542344</td>\n",
       "      <td>0.0</td>\n",
       "    </tr>\n",
       "    <tr>\n",
       "      <th>8</th>\n",
       "      <td>0.255625</td>\n",
       "      <td>3.323429</td>\n",
       "      <td>0.0</td>\n",
       "    </tr>\n",
       "    <tr>\n",
       "      <th>9</th>\n",
       "      <td>0.287578</td>\n",
       "      <td>0.029673</td>\n",
       "      <td>0.0</td>\n",
       "    </tr>\n",
       "  </tbody>\n",
       "</table>\n",
       "</div>"
      ],
      "text/plain": [
       "         mu       vmax  vmin\n",
       "0  0.000000  13.982833   0.0\n",
       "1  0.031953  13.546867   0.0\n",
       "2  0.063906  13.110901   0.0\n",
       "3  0.095859  12.674935   0.0\n",
       "4  0.127812  12.223116   0.0\n",
       "5  0.159765  11.766700   0.0\n",
       "6  0.191719   9.526091   0.0\n",
       "7  0.223672   6.542344   0.0\n",
       "8  0.255625   3.323429   0.0\n",
       "9  0.287578   0.029673   0.0"
      ]
     },
     "execution_count": 48,
     "metadata": {},
     "output_type": "execute_result"
    },
    {
     "data": {
      "image/png": "[encoded data removed]",
      "text/plain": [
       "<Figure size 432x288 with 1 Axes>"
      ]
     },
     "metadata": {
      "needs_background": "light"
     },
     "output_type": "display_data"
    }
   ],
   "source": [
    "model,rxn_bio = reload_model()\n",
    "prod_env(model, rxn_bio, rxn_target)"
   ]
  },
  {
   "cell_type": "code",
   "execution_count": 49,
   "metadata": {},
   "outputs": [
    {
     "name": "stdout",
     "output_type": "stream",
     "text": [
      "Organism is S. cerevisiae\n"
     ]
    },
    {
     "data": {
      "text/html": [
       "<div>\n",
       "<style scoped>\n",
       "    .dataframe tbody tr th:only-of-type {\n",
       "        vertical-align: middle;\n",
       "    }\n",
       "\n",
       "    .dataframe tbody tr th {\n",
       "        vertical-align: top;\n",
       "    }\n",
       "\n",
       "    .dataframe thead th {\n",
       "        text-align: right;\n",
       "    }\n",
       "</style>\n",
       "<table border=\"1\" class=\"dataframe\">\n",
       "  <thead>\n",
       "    <tr style=\"text-align: right;\">\n",
       "      <th></th>\n",
       "      <th>mu</th>\n",
       "      <th>vmax</th>\n",
       "      <th>vmin</th>\n",
       "    </tr>\n",
       "  </thead>\n",
       "  <tbody>\n",
       "    <tr>\n",
       "      <th>0</th>\n",
       "      <td>0.000000</td>\n",
       "      <td>13.927602</td>\n",
       "      <td>0.000000</td>\n",
       "    </tr>\n",
       "    <tr>\n",
       "      <th>1</th>\n",
       "      <td>0.018998</td>\n",
       "      <td>13.663115</td>\n",
       "      <td>0.000000</td>\n",
       "    </tr>\n",
       "    <tr>\n",
       "      <th>2</th>\n",
       "      <td>0.037997</td>\n",
       "      <td>13.398629</td>\n",
       "      <td>0.000000</td>\n",
       "    </tr>\n",
       "    <tr>\n",
       "      <th>3</th>\n",
       "      <td>0.056995</td>\n",
       "      <td>13.134143</td>\n",
       "      <td>0.000000</td>\n",
       "    </tr>\n",
       "    <tr>\n",
       "      <th>4</th>\n",
       "      <td>0.075994</td>\n",
       "      <td>12.869656</td>\n",
       "      <td>0.000000</td>\n",
       "    </tr>\n",
       "    <tr>\n",
       "      <th>5</th>\n",
       "      <td>0.094992</td>\n",
       "      <td>12.605170</td>\n",
       "      <td>0.020651</td>\n",
       "    </tr>\n",
       "    <tr>\n",
       "      <th>6</th>\n",
       "      <td>0.113990</td>\n",
       "      <td>12.340684</td>\n",
       "      <td>1.524781</td>\n",
       "    </tr>\n",
       "    <tr>\n",
       "      <th>7</th>\n",
       "      <td>0.132989</td>\n",
       "      <td>12.076197</td>\n",
       "      <td>3.028911</td>\n",
       "    </tr>\n",
       "    <tr>\n",
       "      <th>8</th>\n",
       "      <td>0.151987</td>\n",
       "      <td>11.811711</td>\n",
       "      <td>4.533041</td>\n",
       "    </tr>\n",
       "    <tr>\n",
       "      <th>9</th>\n",
       "      <td>0.170986</td>\n",
       "      <td>9.328276</td>\n",
       "      <td>8.885960</td>\n",
       "    </tr>\n",
       "  </tbody>\n",
       "</table>\n",
       "</div>"
      ],
      "text/plain": [
       "         mu       vmax      vmin\n",
       "0  0.000000  13.927602  0.000000\n",
       "1  0.018998  13.663115  0.000000\n",
       "2  0.037997  13.398629  0.000000\n",
       "3  0.056995  13.134143  0.000000\n",
       "4  0.075994  12.869656  0.000000\n",
       "5  0.094992  12.605170  0.020651\n",
       "6  0.113990  12.340684  1.524781\n",
       "7  0.132989  12.076197  3.028911\n",
       "8  0.151987  11.811711  4.533041\n",
       "9  0.170986   9.328276  8.885960"
      ]
     },
     "execution_count": 49,
     "metadata": {},
     "output_type": "execute_result"
    },
    {
     "data": {
      "image/png": "[encoded data removed]",
      "text/plain": [
       "<Figure size 432x288 with 1 Axes>"
      ]
     },
     "metadata": {
      "needs_background": "light"
     },
     "output_type": "display_data"
    }
   ],
   "source": [
    "model,rxn_bio = reload_model()\n",
    "model.reactions.PYRDC.upper_bound = 0\n",
    "model.reactions.ME2m.upper_bound = 0\n",
    "prod_env(model, rxn_bio, rxn_target)"
   ]
  },
  {
   "cell_type": "markdown",
   "metadata": {},
   "source": [
    "# 4. Add an integer cut, forcing a different solution"
   ]
  },
  {
   "cell_type": "markdown",
   "metadata": {},
   "source": [
    "$$\n",
    "\\sum_{j\\in y_p=0} y_j + \\sum_{j\\in y_p=1} (1-y_j) \\geq 1\n",
    "$$"
   ]
  },
  {
   "cell_type": "markdown",
   "metadata": {},
   "source": [
    "$$\n",
    "\\sum_{j\\in y_p=0} y_j - \\sum_{j\\in y_p=1} y_j \\geq 1 - N_1\n",
    "$$"
   ]
  },
  {
   "cell_type": "markdown",
   "metadata": {},
   "source": [
    "- a Metabolite is a linear constraint\n",
    "- a Reaction is a variable"
   ]
  },
  {
   "cell_type": "code",
   "execution_count": 50,
   "metadata": {},
   "outputs": [],
   "source": [
    "cut = Metabolite('cut_0')\n",
    "cut._constraint_sense = 'G'\n",
    "\n",
    "N1 = sum(y_prev.values())\n",
    "cut._bound = 1 - N1\n",
    "\n",
    "for y,yp in y_prev.items():\n",
    "    if yp>0.5:\n",
    "        y.add_metabolites({cut:-1})\n",
    "    else:\n",
    "        y.add_metabolites({cut:1})\n",
    "\n",
    "optknock.add_metabolites(cut)"
   ]
  },
  {
   "cell_type": "code",
   "execution_count": 53,
   "metadata": {},
   "outputs": [
    {
     "name": "stdout",
     "output_type": "stream",
     "text": [
      "OptKnock objective: <Solution 8.66 at 0x7faa83514fd0>\n",
      "Total Knockouts: 2\n",
      "Knockouts:\n",
      "y_PIt2m=0\th_c + pi_c <=> h_m + lb_y_PIt2m + pi_m + ub_y_PIt2m\n",
      "y_PYRDC=0\th_c + pyr_c --> acald_c + co2_c + lb_y_PYRDC + ub_y_PYRDC\n",
      "Growth rate: 0.17245549486272713\n",
      "Production rate: 8.658983876207571\n"
     ]
    }
   ],
   "source": [
    "#-----------------------------------------------------\n",
    "# SOLVE\n",
    "print('OptKnock objective:', optknock.optimize('maximize', solver='gurobi', integer_feasibility=1e-9, threads=11))\n",
    "\n",
    "#-----------------------------------------------------\n",
    "# Interpret the solution\n",
    "y_new = {y:y.x for y in optknock.reactions.query('^y_')}\n",
    "print('Total Knockouts: %d'%(sum(np.array(list(y_new.values()))==0)))\n",
    "print('Knockouts:')\n",
    "for y,yv in y_new.items():\n",
    "    if yv < 0.5:\n",
    "        rxn = optknock.reactions.get_by_id(y.id.replace('y_',''))\n",
    "        print('%s=%d\\t%s'%(y.id, yv, rxn.reaction))\n",
    "    \n",
    "print('Growth rate:', optknock.reactions.get_by_id(rxn_bio).x)\n",
    "print('Production rate:', optknock.reactions.get_by_id(rxn_target).x)"
   ]
  },
  {
   "cell_type": "code",
   "execution_count": 54,
   "metadata": {},
   "outputs": [],
   "source": [
    "y_opt2 = {y:y.x for y in optknock.reactions.query('^y_')}"
   ]
  },
  {
   "cell_type": "markdown",
   "metadata": {},
   "source": [
    "# Interpret"
   ]
  },
  {
   "cell_type": "markdown",
   "metadata": {},
   "source": [
    "|Solution | Growth rate | Max production | # of Knockouts | Knockout reactions  |\n",
    "|---|---|---|---|---|\n",
    "|  1      | 0.1711567374050771 | 9.069339712918804 |  2  | ME2m, PYRDC |\n",
    "|  2      | 0.17245549486272713 | 8.658983876207571 |  2  | PIt2m, PYRDC |"
   ]
  },
  {
   "cell_type": "markdown",
   "metadata": {},
   "source": [
    "## Worth noting:\n",
    "- the set of knocked out reactions for Solution 2 differs from that of solution 1 (PIt2m intead of ME2m)\n",
    "- the second solution has lower max production rate than the first: suboptimal compared to the first\n",
    "- thus, no other two-knock out solution exists that reaches 9.07 mmol/gDW/h"
   ]
  },
  {
   "cell_type": "markdown",
   "metadata": {},
   "source": [
    "### New mutant"
   ]
  },
  {
   "cell_type": "code",
   "execution_count": 59,
   "metadata": {},
   "outputs": [
    {
     "name": "stdout",
     "output_type": "stream",
     "text": [
      "Organism is S. cerevisiae\n",
      "Knocked out reaction PIt2m\n",
      "Knocked out reaction PYRDC\n"
     ]
    },
    {
     "data": {
      "text/html": [
       "<div>\n",
       "<style scoped>\n",
       "    .dataframe tbody tr th:only-of-type {\n",
       "        vertical-align: middle;\n",
       "    }\n",
       "\n",
       "    .dataframe tbody tr th {\n",
       "        vertical-align: top;\n",
       "    }\n",
       "\n",
       "    .dataframe thead th {\n",
       "        text-align: right;\n",
       "    }\n",
       "</style>\n",
       "<table border=\"1\" class=\"dataframe\">\n",
       "  <thead>\n",
       "    <tr style=\"text-align: right;\">\n",
       "      <th></th>\n",
       "      <th>mu</th>\n",
       "      <th>vmax</th>\n",
       "      <th>vmin</th>\n",
       "    </tr>\n",
       "  </thead>\n",
       "  <tbody>\n",
       "    <tr>\n",
       "      <th>0</th>\n",
       "      <td>0.000000</td>\n",
       "      <td>13.927602</td>\n",
       "      <td>0.000000</td>\n",
       "    </tr>\n",
       "    <tr>\n",
       "      <th>1</th>\n",
       "      <td>0.019143</td>\n",
       "      <td>13.661108</td>\n",
       "      <td>0.000000</td>\n",
       "    </tr>\n",
       "    <tr>\n",
       "      <th>2</th>\n",
       "      <td>0.038285</td>\n",
       "      <td>13.394615</td>\n",
       "      <td>0.000000</td>\n",
       "    </tr>\n",
       "    <tr>\n",
       "      <th>3</th>\n",
       "      <td>0.057428</td>\n",
       "      <td>13.128122</td>\n",
       "      <td>0.000000</td>\n",
       "    </tr>\n",
       "    <tr>\n",
       "      <th>4</th>\n",
       "      <td>0.076570</td>\n",
       "      <td>12.861629</td>\n",
       "      <td>0.000000</td>\n",
       "    </tr>\n",
       "    <tr>\n",
       "      <th>5</th>\n",
       "      <td>0.095713</td>\n",
       "      <td>12.595135</td>\n",
       "      <td>0.000000</td>\n",
       "    </tr>\n",
       "    <tr>\n",
       "      <th>6</th>\n",
       "      <td>0.114855</td>\n",
       "      <td>12.328642</td>\n",
       "      <td>0.769307</td>\n",
       "    </tr>\n",
       "    <tr>\n",
       "      <th>7</th>\n",
       "      <td>0.133998</td>\n",
       "      <td>12.062149</td>\n",
       "      <td>3.119747</td>\n",
       "    </tr>\n",
       "    <tr>\n",
       "      <th>8</th>\n",
       "      <td>0.153140</td>\n",
       "      <td>11.795655</td>\n",
       "      <td>5.479572</td>\n",
       "    </tr>\n",
       "    <tr>\n",
       "      <th>9</th>\n",
       "      <td>0.172283</td>\n",
       "      <td>8.796321</td>\n",
       "      <td>8.626035</td>\n",
       "    </tr>\n",
       "  </tbody>\n",
       "</table>\n",
       "</div>"
      ],
      "text/plain": [
       "         mu       vmax      vmin\n",
       "0  0.000000  13.927602  0.000000\n",
       "1  0.019143  13.661108  0.000000\n",
       "2  0.038285  13.394615  0.000000\n",
       "3  0.057428  13.128122  0.000000\n",
       "4  0.076570  12.861629  0.000000\n",
       "5  0.095713  12.595135  0.000000\n",
       "6  0.114855  12.328642  0.769307\n",
       "7  0.133998  12.062149  3.119747\n",
       "8  0.153140  11.795655  5.479572\n",
       "9  0.172283   8.796321  8.626035"
      ]
     },
     "execution_count": 59,
     "metadata": {},
     "output_type": "execute_result"
    },
    {
     "data": {
      "image/png": "[encoded data removed]",
      "text/plain": [
       "<Figure size 432x288 with 1 Axes>"
      ]
     },
     "metadata": {
      "needs_background": "light"
     },
     "output_type": "display_data"
    }
   ],
   "source": [
    "model,rxn_bio = reload_model()\n",
    "\n",
    "for yj, valj in y_opt2.items():\n",
    "    if valj<0.5:\n",
    "        rxn_id = yj.id.replace('y_','')\n",
    "        rxn = model.reactions.get_by_id(rxn_id)\n",
    "        rxn.upper_bound = 0\n",
    "        rxn.lower_bound = 0\n",
    "        print('Knocked out reaction %s'%rxn.id)\n",
    "\n",
    "prod_env(model, rxn_bio, rxn_target)"
   ]
  },
  {
   "cell_type": "markdown",
   "metadata": {},
   "source": [
    "# 5. Add another cut, this time excluding Solution 2"
   ]
  },
  {
   "cell_type": "code",
   "execution_count": 69,
   "metadata": {},
   "outputs": [],
   "source": [
    "cut = Metabolite('cut_1')\n",
    "cut._constraint_sense = 'G'\n",
    "\n",
    "N1 = sum(y_opt2.values())\n",
    "cut._bound = 1 - N1\n",
    "\n",
    "for y,yp in y_opt2.items():\n",
    "    if yp>0.5:\n",
    "        y.add_metabolites({cut:-1})\n",
    "    else:\n",
    "        y.add_metabolites({cut:1})\n",
    "\n",
    "optknock.add_metabolites(cut)"
   ]
  },
  {
   "cell_type": "code",
   "execution_count": 70,
   "metadata": {},
   "outputs": [
    {
     "name": "stdout",
     "output_type": "stream",
     "text": [
      "OptKnock objective: <Solution 7.91 at 0x7faa880da650>\n",
      "CPU times: user 58min 21s, sys: 54.9 s, total: 59min 16s\n",
      "Wall time: 6min 10s\n",
      "Total Knockouts: 2\n",
      "Knockouts:\n",
      "y_MDH=0\tmal__L_c + nad_c <=> h_c + lb_y_MDH + nadh_c + oaa_c + ub_y_MDH\n",
      "y_PYRDC=0\th_c + pyr_c --> acald_c + co2_c + lb_y_PYRDC + ub_y_PYRDC\n",
      "Growth rate: 0.11436874729781656\n",
      "Production rate: 7.905300135717994\n"
     ]
    }
   ],
   "source": [
    "#-----------------------------------------------------\n",
    "# SOLVE\n",
    "%time print('OptKnock objective:', optknock.optimize('maximize', solver='gurobi', integer_feasibility=1e-9, threads=11))\n",
    "\n",
    "#-----------------------------------------------------\n",
    "# Interpret the solution\n",
    "y_new = {y:y.x for y in optknock.reactions.query('^y_')}\n",
    "print('Total Knockouts: %d'%(sum(np.array(list(y_new.values()))==0)))\n",
    "print('Knockouts:')\n",
    "for y,yv in y_new.items():\n",
    "    if yv < 0.5:\n",
    "        rxn = optknock.reactions.get_by_id(y.id.replace('y_',''))\n",
    "        print('%s=%d\\t%s'%(y.id, yv, rxn.reaction))\n",
    "    \n",
    "print('Growth rate:', optknock.reactions.get_by_id(rxn_bio).x)\n",
    "print('Production rate:', optknock.reactions.get_by_id(rxn_target).x)"
   ]
  },
  {
   "cell_type": "code",
   "execution_count": 71,
   "metadata": {},
   "outputs": [],
   "source": [
    "y_opt3 = {y:y.x for y in optknock.reactions.query('^y_')}"
   ]
  },
  {
   "cell_type": "code",
   "execution_count": 72,
   "metadata": {},
   "outputs": [
    {
     "name": "stdout",
     "output_type": "stream",
     "text": [
      "Organism is S. cerevisiae\n",
      "Knocked out reaction MDH\n",
      "Knocked out reaction PYRDC\n"
     ]
    },
    {
     "data": {
      "text/html": [
       "<div>\n",
       "<style scoped>\n",
       "    .dataframe tbody tr th:only-of-type {\n",
       "        vertical-align: middle;\n",
       "    }\n",
       "\n",
       "    .dataframe tbody tr th {\n",
       "        vertical-align: top;\n",
       "    }\n",
       "\n",
       "    .dataframe thead th {\n",
       "        text-align: right;\n",
       "    }\n",
       "</style>\n",
       "<table border=\"1\" class=\"dataframe\">\n",
       "  <thead>\n",
       "    <tr style=\"text-align: right;\">\n",
       "      <th></th>\n",
       "      <th>mu</th>\n",
       "      <th>vmax</th>\n",
       "      <th>vmin</th>\n",
       "    </tr>\n",
       "  </thead>\n",
       "  <tbody>\n",
       "    <tr>\n",
       "      <th>0</th>\n",
       "      <td>0.000000</td>\n",
       "      <td>13.550000</td>\n",
       "      <td>0.000000</td>\n",
       "    </tr>\n",
       "    <tr>\n",
       "      <th>1</th>\n",
       "      <td>0.012695</td>\n",
       "      <td>13.365961</td>\n",
       "      <td>0.000000</td>\n",
       "    </tr>\n",
       "    <tr>\n",
       "      <th>2</th>\n",
       "      <td>0.025390</td>\n",
       "      <td>13.181921</td>\n",
       "      <td>0.000000</td>\n",
       "    </tr>\n",
       "    <tr>\n",
       "      <th>3</th>\n",
       "      <td>0.038085</td>\n",
       "      <td>12.997882</td>\n",
       "      <td>0.000000</td>\n",
       "    </tr>\n",
       "    <tr>\n",
       "      <th>4</th>\n",
       "      <td>0.050780</td>\n",
       "      <td>12.813842</td>\n",
       "      <td>0.000000</td>\n",
       "    </tr>\n",
       "    <tr>\n",
       "      <th>5</th>\n",
       "      <td>0.063475</td>\n",
       "      <td>12.629803</td>\n",
       "      <td>0.000000</td>\n",
       "    </tr>\n",
       "    <tr>\n",
       "      <th>6</th>\n",
       "      <td>0.076170</td>\n",
       "      <td>12.445763</td>\n",
       "      <td>0.000000</td>\n",
       "    </tr>\n",
       "    <tr>\n",
       "      <th>7</th>\n",
       "      <td>0.088865</td>\n",
       "      <td>12.261724</td>\n",
       "      <td>0.000000</td>\n",
       "    </tr>\n",
       "    <tr>\n",
       "      <th>8</th>\n",
       "      <td>0.101559</td>\n",
       "      <td>11.429747</td>\n",
       "      <td>0.000000</td>\n",
       "    </tr>\n",
       "    <tr>\n",
       "      <th>9</th>\n",
       "      <td>0.114254</td>\n",
       "      <td>7.940728</td>\n",
       "      <td>7.772304</td>\n",
       "    </tr>\n",
       "  </tbody>\n",
       "</table>\n",
       "</div>"
      ],
      "text/plain": [
       "         mu       vmax      vmin\n",
       "0  0.000000  13.550000  0.000000\n",
       "1  0.012695  13.365961  0.000000\n",
       "2  0.025390  13.181921  0.000000\n",
       "3  0.038085  12.997882  0.000000\n",
       "4  0.050780  12.813842  0.000000\n",
       "5  0.063475  12.629803  0.000000\n",
       "6  0.076170  12.445763  0.000000\n",
       "7  0.088865  12.261724  0.000000\n",
       "8  0.101559  11.429747  0.000000\n",
       "9  0.114254   7.940728  7.772304"
      ]
     },
     "execution_count": 72,
     "metadata": {},
     "output_type": "execute_result"
    },
    {
     "data": {
      "image/png": "[encoded data removed]",
      "text/plain": [
       "<Figure size 432x288 with 1 Axes>"
      ]
     },
     "metadata": {
      "needs_background": "light"
     },
     "output_type": "display_data"
    }
   ],
   "source": [
    "model,rxn_bio = reload_model()\n",
    "\n",
    "for yj, valj in y_opt3.items():\n",
    "    if valj<0.5:\n",
    "        rxn_id = yj.id.replace('y_','')\n",
    "        rxn = model.reactions.get_by_id(rxn_id)\n",
    "        rxn.upper_bound = 0\n",
    "        rxn.lower_bound = 0\n",
    "        print('Knocked out reaction %s'%rxn.id)\n",
    "\n",
    "prod_env(model, rxn_bio, rxn_target)"
   ]
  },
  {
   "cell_type": "markdown",
   "metadata": {},
   "source": [
    "## Summary"
   ]
  },
  {
   "cell_type": "markdown",
   "metadata": {},
   "source": [
    "|Solution | Growth rate | Max production | # of Knockouts | Knockout reactions  |\n",
    "|---|---|---|---|---|\n",
    "|  1      | 0.1711567374050771 | 9.069339712918804 |  2  | ME2m, PYRDC |\n",
    "|  2      | 0.17245549486272713 | 8.658983876207571 |  2  | PIt2m, PYRDC |\n",
    "| 3       | 0.11436874729781656 |  7.905300135717994 | 2 | MDH, PYRDC |"
   ]
  }
 ],
 "metadata": {
  "kernelspec": {
   "display_name": "Python 3 (ipykernel)",
   "language": "python",
   "name": "python3"
  },
  "language_info": {
   "codemirror_mode": {
    "name": "ipython",
    "version": 3
   },
   "file_extension": ".py",
   "mimetype": "text/x-python",
   "name": "python",
   "nbconvert_exporter": "python",
   "pygments_lexer": "ipython3",
   "version": "3.10.5"
  }
 },
 "nbformat": 4,
 "nbformat_minor": 2
}
